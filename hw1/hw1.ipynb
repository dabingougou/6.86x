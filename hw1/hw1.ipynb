{
 "cells": [
  {
   "cell_type": "markdown",
   "id": "2616d099-b13c-4040-bc7e-a4748661dd92",
   "metadata": {
    "tags": []
   },
   "source": [
    "## 6.86x Homework 1"
   ]
  },
  {
   "cell_type": "markdown",
   "id": "b005726b-53e9-4939-b008-c50f7239abab",
   "metadata": {
    "tags": []
   },
   "source": [
    "## Part 1"
   ]
  },
  {
   "cell_type": "markdown",
   "id": "5256b951-069d-495f-8a14-0f0186d8f7ea",
   "metadata": {},
   "source": [
    "$x^{(1)} = (-1, -1)$"
   ]
  },
  {
   "cell_type": "markdown",
   "id": "b605ac70-19c3-4c3c-96f1-e137f0cd45d4",
   "metadata": {},
   "source": [
    "$x^{(2)} = (1, 0)$"
   ]
  },
  {
   "cell_type": "markdown",
   "id": "df4bc58a-0bf7-496a-98ba-cf146e05968c",
   "metadata": {},
   "source": [
    "$x^{(3)} = (-1, 1.5)$"
   ]
  },
  {
   "cell_type": "markdown",
   "id": "ced4b4b2-cc19-4a0d-a601-a2539e5ff8f1",
   "metadata": {
    "jp-MarkdownHeadingCollapsed": true,
    "tags": []
   },
   "source": [
    "### Perceptron algorithm"
   ]
  },
  {
   "cell_type": "markdown",
   "id": "3342a58e-ea31-402c-ae4f-2c087ef6473f",
   "metadata": {
    "tags": []
   },
   "source": [
    "### Import packages"
   ]
  },
  {
   "cell_type": "code",
   "execution_count": 2,
   "id": "69534894-846f-494b-8c7c-f9ec7c195387",
   "metadata": {},
   "outputs": [],
   "source": [
    "import numpy as np\n",
    "import matplotlib.pyplot as plt"
   ]
  },
  {
   "cell_type": "markdown",
   "id": "50d77542-a4ca-48c2-8b92-642fd36fd2b3",
   "metadata": {},
   "source": [
    "- Initialize training points"
   ]
  },
  {
   "cell_type": "code",
   "execution_count": 78,
   "id": "c8b66048-9cfd-45a8-b0a9-acf1e6d6c296",
   "metadata": {},
   "outputs": [],
   "source": [
    "x = np.array([[-1, -1], [1, 0], [-1, 10]])"
   ]
  },
  {
   "cell_type": "markdown",
   "id": "059b255b-a0d3-45d6-9bd0-8411cb280fdc",
   "metadata": {},
   "source": [
    "- Printing the training points"
   ]
  },
  {
   "cell_type": "code",
   "execution_count": 79,
   "id": "a7ec51df-87f1-495d-b3c2-508648508dad",
   "metadata": {},
   "outputs": [
    {
     "name": "stdout",
     "output_type": "stream",
     "text": [
      "[[-1 -1]\n",
      " [ 1  0]\n",
      " [-1 10]]\n"
     ]
    }
   ],
   "source": [
    "print(x)"
   ]
  },
  {
   "cell_type": "markdown",
   "id": "81e00f73-1128-4d4f-a2bf-ff9953f07739",
   "metadata": {},
   "source": [
    "- Printing *a* point, not forgetting about zero-indexing"
   ]
  },
  {
   "cell_type": "code",
   "execution_count": 73,
   "id": "8fddca10-0dce-455e-a38c-feaae319c43e",
   "metadata": {},
   "outputs": [
    {
     "name": "stdout",
     "output_type": "stream",
     "text": [
      "[1 0]\n"
     ]
    }
   ],
   "source": [
    "print(x[1])"
   ]
  },
  {
   "cell_type": "markdown",
   "id": "c6a03e8b-d6fa-46ba-9fbf-d94e4d7ace5a",
   "metadata": {},
   "source": [
    "- Initialize labels"
   ]
  },
  {
   "cell_type": "code",
   "execution_count": 74,
   "id": "dd4c8841-0b18-4546-9ca6-b32e78e57e5d",
   "metadata": {},
   "outputs": [
    {
     "name": "stdout",
     "output_type": "stream",
     "text": [
      "[[ 1]\n",
      " [-1]\n",
      " [ 1]]\n"
     ]
    }
   ],
   "source": [
    "y = np.array([[1], [-1], [1]])\n",
    "print(y)"
   ]
  },
  {
   "cell_type": "code",
   "execution_count": 7,
   "id": "47208acd-8b97-429f-aac5-bfdee4acba87",
   "metadata": {},
   "outputs": [
    {
     "name": "stdout",
     "output_type": "stream",
     "text": [
      "[-1]\n"
     ]
    }
   ],
   "source": [
    "print(y[1])"
   ]
  },
  {
   "cell_type": "code",
   "execution_count": 34,
   "id": "10b71473-f06e-4fae-afc5-3c1aef0f792a",
   "metadata": {},
   "outputs": [],
   "source": [
    "n = 3\n",
    "m = 5"
   ]
  },
  {
   "cell_type": "code",
   "execution_count": 30,
   "id": "9bbb9df8-ddea-458b-a1fb-9974a2e0d5e1",
   "metadata": {},
   "outputs": [
    {
     "name": "stdout",
     "output_type": "stream",
     "text": [
      "[0, 1, 2]\n"
     ]
    }
   ],
   "source": [
    "ind = list(range(0, n, 1))\n",
    "print(ind)"
   ]
  },
  {
   "cell_type": "code",
   "execution_count": 35,
   "id": "1bb51531-b004-4cdc-a1ee-ccf6d1f36fda",
   "metadata": {},
   "outputs": [
    {
     "name": "stdout",
     "output_type": "stream",
     "text": [
      "[0 1 2 3 4]\n"
     ]
    }
   ],
   "source": [
    "ind2 = np.array(range(0, m, 1))\n",
    "print(ind2)"
   ]
  },
  {
   "cell_type": "code",
   "execution_count": 24,
   "id": "0dcee116-07b5-4404-b55a-ec530b6bbabe",
   "metadata": {},
   "outputs": [
    {
     "data": {
      "text/plain": [
       "list"
      ]
     },
     "execution_count": 24,
     "metadata": {},
     "output_type": "execute_result"
    }
   ],
   "source": [
    "type(ind)"
   ]
  },
  {
   "cell_type": "markdown",
   "id": "7a4e14e9-b0d4-478f-8eba-d0d5c95970da",
   "metadata": {
    "tags": []
   },
   "source": [
    "### Recall the Perceptron algorithm\n",
    "$\\theta = (0, 0)'$\n",
    "\n",
    "for i = 0, 1, 2 do"
   ]
  },
  {
   "cell_type": "markdown",
   "id": "69fe46ce-5c0a-4609-a1e5-2437cf8dd78e",
   "metadata": {},
   "source": [
    "$y^{(i)}(\\theta \\cdot x^{(i)}) \\le 0$"
   ]
  },
  {
   "cell_type": "markdown",
   "id": "0ec30aa8-5eb6-4ad8-91cb-985cebc204de",
   "metadata": {},
   "source": [
    "$\\theta = \\theta + y^{(i)}x^{(i)}$"
   ]
  },
  {
   "cell_type": "markdown",
   "id": "96a0883f-597b-4431-8a05-abec1974bd74",
   "metadata": {},
   "source": [
    "Below is how to do dot product in Numpy"
   ]
  },
  {
   "cell_type": "code",
   "execution_count": 31,
   "id": "e329b6d0-3698-4a95-8321-42119d576546",
   "metadata": {},
   "outputs": [
    {
     "data": {
      "text/plain": [
       "-1.0"
      ]
     },
     "execution_count": 31,
     "metadata": {},
     "output_type": "execute_result"
    }
   ],
   "source": [
    "np.dot(x[0], x[1])"
   ]
  },
  {
   "cell_type": "code",
   "execution_count": 61,
   "id": "31f2c68b-ec10-4fe9-b63e-e60107090d9d",
   "metadata": {},
   "outputs": [
    {
     "name": "stdout",
     "output_type": "stream",
     "text": [
      "[0 0]\n"
     ]
    }
   ],
   "source": [
    "theta = np.array([0, 0])\n",
    "print(theta)"
   ]
  },
  {
   "cell_type": "markdown",
   "id": "79cd5565-68ac-4885-b086-be9c0baa5b5d",
   "metadata": {},
   "source": [
    "- Function useful in the main code"
   ]
  },
  {
   "cell_type": "code",
   "execution_count": 97,
   "id": "17dc9bdc-09d4-40c1-bec9-79a5f6eaa471",
   "metadata": {},
   "outputs": [
    {
     "name": "stdout",
     "output_type": "stream",
     "text": [
      "[[0. 0.]\n",
      " [0. 0.]\n",
      " [0. 0.]]\n"
     ]
    }
   ],
   "source": [
    "foo = np.zeros((3, 2))\n",
    "print(foo)"
   ]
  },
  {
   "cell_type": "code",
   "execution_count": 98,
   "id": "6feb3a02-dacf-44ca-83eb-e68f65a27960",
   "metadata": {},
   "outputs": [
    {
     "name": "stdout",
     "output_type": "stream",
     "text": [
      "[[3. 5.]\n",
      " [4. 6.]\n",
      " [5. 7.]]\n"
     ]
    }
   ],
   "source": [
    "for i in np.array([0, 1, 2]):\n",
    "    foo[i] = np.array([i + 3, i + 5]) + foo[i]\n",
    "print(foo)"
   ]
  },
  {
   "cell_type": "markdown",
   "id": "e4c29e77-673e-4dff-a5ae-7f648636d47b",
   "metadata": {},
   "source": [
    "- How to append a NumPy array"
   ]
  },
  {
   "cell_type": "code",
   "execution_count": 116,
   "id": "9b81338b-2415-47ba-bdfb-0893ad8f07df",
   "metadata": {},
   "outputs": [
    {
     "name": "stdout",
     "output_type": "stream",
     "text": [
      "[[1, 0], [6, 10], [7, 12]]\n"
     ]
    }
   ],
   "source": [
    "empty_l = []\n",
    "for i in np.array([0, 5, 6]):\n",
    "    empty_l.append([i + 1, 2 * i])\n",
    "print(empty_l)"
   ]
  },
  {
   "cell_type": "markdown",
   "id": "b021900c-83b4-4cbb-a497-b991a48ea7f3",
   "metadata": {
    "tags": []
   },
   "source": [
    "## Main code for part 1"
   ]
  },
  {
   "cell_type": "code",
   "execution_count": 127,
   "id": "394d2b67-6bcc-436f-94cc-cb52cf56220a",
   "metadata": {},
   "outputs": [
    {
     "name": "stdout",
     "output_type": "stream",
     "text": [
      "[0 0]\n",
      "[0. 0. 0.]\n",
      "\n",
      "Iteration 1:\n",
      "\n",
      "\n",
      "Training point number 2:\n",
      "\n",
      " Classifier value = [0]\n",
      "\n",
      " Updated theta value: [-1  0]\n",
      "\n",
      " Updated classifier value: [1]\n",
      "\n",
      "\n",
      "Training point number 3:\n",
      "\n",
      " Classifier value = [1]\n",
      "\n",
      "\n",
      "Training point number 1:\n",
      "\n",
      " Classifier value = [1]\n",
      "\n",
      "\n",
      "Classifier value for training example number 2:\n",
      " 1.0\n",
      "\n",
      "Classifier value for training example number 3:\n",
      " 1.0\n",
      "\n",
      "Classifier value for training example number 1:\n",
      " 1.0\n",
      "[[array([-1,  0])]]\n",
      "\n",
      "Number of mistakes: 1\n",
      "\n"
     ]
    }
   ],
   "source": [
    "theta = np.array([0, 0]) # Initialize theta\n",
    "\n",
    "print(theta) # Check starting theta\n",
    "\n",
    "classifier = np.zeros((3))\n",
    "print(classifier)\n",
    "it = 0 # Iteration number\n",
    "\n",
    "sep_pln = []\n",
    "\n",
    "mistakes = 0 # Initialize mistake count\n",
    "looping_ind = np.array([1, 2, 0])\n",
    "while np.min(classifier) <= 0:\n",
    "    print(f'\\nIteration {it + 1}:\\n')\n",
    "    for i in looping_ind:\n",
    "        print(f'\\nTraining point number {i + 1}:\\n')\n",
    "        print(f' Classifier value = {y[i] * np.dot(theta, x[i])}\\n')\n",
    "        if y[i] * np.dot(theta, x[i]) <= 0:\n",
    "            theta = theta + y[i] * x[i]\n",
    "            sep_pln.append([theta])\n",
    "            print(f' Updated theta value: {theta}\\n')\n",
    "            print(f' Updated classifier value: {y[i] * np.dot(theta, x[i])}\\n')\n",
    "            mistakes = mistakes + 1\n",
    "    for i in looping_ind:\n",
    "        classifier[i] = y[i] * np.dot(theta, x[i])\n",
    "        print(f'\\nClassifier value for training example number {i + 1}:\\n {classifier[i]}')\n",
    "    it = it + 1\n",
    "\n",
    "print(sep_pln)\n",
    "    # print(f' theta: {theta}')\n",
    "print(f'\\nNumber of mistakes: {mistakes}\\n')\n"
   ]
  },
  {
   "cell_type": "markdown",
   "id": "7984ee50-44d6-4b6a-9c02-12d974b6c12b",
   "metadata": {
    "jp-MarkdownHeadingCollapsed": true,
    "tags": []
   },
   "source": [
    "## Part 2"
   ]
  },
  {
   "cell_type": "code",
   "execution_count": 132,
   "id": "531eab7b-7322-4f5f-9da7-15ba45bdf4a0",
   "metadata": {},
   "outputs": [],
   "source": [
    "theta_vec = np.array([0, 0])\n",
    "theta0 = 0\n",
    "# print(theta_vec)\n",
    "# type(theta_vec)"
   ]
  },
  {
   "cell_type": "markdown",
   "id": "52a4b0a1-77f9-4849-bcc9-6e88ac95fcd7",
   "metadata": {},
   "source": [
    "Note that when we use the perceptron algorithm, one way to write the classifier is \n",
    "\n",
    "$$y(\\theta \\cdot x + \\theta_{0}).$$\n",
    "\n",
    "To use a more compact notation, let $X = (x', 1)$ and $\\Theta = (\\theta, \\theta_{0})$. Then we can write the classifier with offset as:\n",
    "\n",
    "$$y^{(i)} \\cdot \\Theta \\cdot X^{(i)}$$"
   ]
  },
  {
   "cell_type": "markdown",
   "id": "f17970b7-92e3-4b67-b9ca-4ee44162b5a3",
   "metadata": {},
   "source": [
    "## Main code for part 2"
   ]
  },
  {
   "cell_type": "code",
   "execution_count": 182,
   "id": "85c255c0-da5d-4519-92ff-292ae9380299",
   "metadata": {},
   "outputs": [
    {
     "name": "stdout",
     "output_type": "stream",
     "text": [
      "[[-4  2  1]\n",
      " [-2  1  1]\n",
      " [-1 -1  1]\n",
      " [ 2  2  1]\n",
      " [ 1 -2  1]]\n",
      "(5, 3)\n",
      "[-1 -1  1]\n",
      "[0 1 2 3 4]\n",
      "Iteration 1:\n",
      "\n",
      " example 1:\n",
      "\n",
      " correctly classified: 15\n",
      "\n",
      " example 2:\n",
      "\n",
      " correctly classified: 6\n",
      "\n",
      " example 3:\n",
      "\n",
      " correctly classified: 3\n",
      "\n",
      " example 4:\n",
      "\n",
      " correctly classified: 3\n",
      "\n",
      " example 5:\n",
      "\n",
      " correctly classified: 12\n",
      "\n",
      "Total number of mistakes: 0\n",
      "\n",
      "Theta progression: [[0 0 0]]\n",
      "\n"
     ]
    }
   ],
   "source": [
    "theta = np.array([-3, 3, -3])\n",
    "x = np.array([[-4, 2, 1],\n",
    "             [-2, 1, 1],\n",
    "             [-1, -1, 1], \n",
    "             [2, 2, 1], \n",
    "             [1, -2, 1]])\n",
    "print(x)\n",
    "print(x.shape)\n",
    "print(x[2])\n",
    "y = np.array([1, 1, -1, -1, -1])\n",
    "\n",
    "It = 0 # Iteration number\n",
    "Loop_ind = np.array(range(0, x.shape[0], 1))\n",
    "print(Loop_ind)\n",
    "type(Loop_ind)\n",
    "\n",
    "mistakes = 0\n",
    "sep_pln = np.array([[0, 0, 0]])\n",
    "cls_col = np.zeros((5))\n",
    "\n",
    "# while It <= k:\n",
    "while np.min(cls_col) <= 0:\n",
    "    print(f'Iteration {It + 1}:\\n')\n",
    "    for i in Loop_ind: \n",
    "        cls = y[i] * np.dot(theta, x[i]) \n",
    "        print(f' example {i + 1}:\\n')\n",
    "        if cls <= 0:\n",
    "            mistakes = mistakes + 1\n",
    "            theta = theta + y[i] * x[i]\n",
    "            print(f' MISS CLASSIFICATION: {cls}\\n')\n",
    "            print(f' updated theta: {theta}\\n')\n",
    "            sep_pln = np.append(sep_pln, [theta], axis= 0)\n",
    "        else: \n",
    "            print(f' correctly classified: {cls}\\n')\n",
    "    for i in Loop_ind:\n",
    "        cls_col[i] = y[i] * np.dot(theta, x[i]) \n",
    "    It = It + 1\n",
    "print(f'Total number of mistakes: {mistakes}\\n') \n",
    "print(f'Theta progression: {sep_pln}\\n')\n",
    "    "
   ]
  },
  {
   "cell_type": "markdown",
   "id": "ffdb18a9-7799-40df-9878-5df2f77d7330",
   "metadata": {},
   "source": [
    "## Part 6"
   ]
  },
  {
   "cell_type": "markdown",
   "id": "50b109b9-6a09-465e-bf31-b8fd312c773f",
   "metadata": {},
   "source": [
    "- Necessary functions"
   ]
  },
  {
   "cell_type": "code",
   "execution_count": 183,
   "id": "33473d69-bfa4-47eb-9553-822cc23e52e3",
   "metadata": {},
   "outputs": [
    {
     "name": "stdout",
     "output_type": "stream",
     "text": [
      "3.141592653589793\n"
     ]
    }
   ],
   "source": [
    "print(np.pi)"
   ]
  },
  {
   "cell_type": "code",
   "execution_count": 187,
   "id": "8d17a31d-5559-4487-87be-cfb0318c52c1",
   "metadata": {},
   "outputs": [
    {
     "data": {
      "text/plain": [
       "6.123233995736766e-17"
      ]
     },
     "execution_count": 187,
     "metadata": {},
     "output_type": "execute_result"
    }
   ],
   "source": [
    "np.cos(np.pi * 1 / 2)"
   ]
  },
  {
   "cell_type": "code",
   "execution_count": 185,
   "id": "c8fffaa1-5d8f-4ee4-99c8-71fd2a94e2ff",
   "metadata": {},
   "outputs": [
    {
     "data": {
      "text/plain": [
       "1.0"
      ]
     },
     "execution_count": 185,
     "metadata": {},
     "output_type": "execute_result"
    }
   ],
   "source": [
    "np.cos(0)"
   ]
  },
  {
   "cell_type": "markdown",
   "id": "4b31c1df-6ab5-4e69-b8c3-e11815607c79",
   "metadata": {},
   "source": [
    "## Main code for part 6"
   ]
  },
  {
   "cell_type": "markdown",
   "id": "dcd2b48b-8077-4085-8d69-935593a6318e",
   "metadata": {},
   "source": [
    "d = 2, $y_{1} = y_{2} = 1$. $x^{(1)}$ first."
   ]
  },
  {
   "cell_type": "code",
   "execution_count": 33,
   "id": "159b9f19-0126-4b32-93aa-603696c60269",
   "metadata": {},
   "outputs": [
    {
     "name": "stdout",
     "output_type": "stream",
     "text": [
      "Shuffled ind: \n",
      "[0 2 1]\n",
      "\n",
      " x: \n",
      "[[-1.  0.  0.]\n",
      " [ 0.  1.  0.]\n",
      " [ 0.  0. -1.]]\n",
      "\n",
      " y: \n",
      "[1. 1. 1.]\n",
      "\n",
      "Classifer values: \n",
      "[0. 0. 0.]\n",
      "\n",
      "[[0. 0. 0.]]\n",
      "Iteration 1\n",
      "\n",
      " (it = 0) point 1\n",
      "\n",
      " MISS CLASSIFICATION\n",
      "\n",
      " theta:\n",
      " [-1.  0.  0.]\n",
      "\n",
      " (it = 0) point 3\n",
      "\n",
      " MISS CLASSIFICATION\n",
      "\n",
      " theta:\n",
      " [-1.  0. -1.]\n",
      "\n",
      " (it = 0) point 2\n",
      "\n",
      " MISS CLASSIFICATION\n",
      "\n",
      " theta:\n",
      " [-1.  1. -1.]\n",
      "\n",
      "Total number of mistakes: 3\n",
      "\n",
      "Theta progression: \n",
      "[[ 0.  0.  0.]\n",
      " [-1.  0.  0.]\n",
      " [-1.  0. -1.]\n",
      " [-1.  1. -1.]]\n",
      "\n",
      "End classifer values: \n",
      "[1. 1. 1.]\n",
      "\n"
     ]
    }
   ],
   "source": [
    "# theta = np.array([0, 0])\n",
    "d = 3\n",
    "theta = np.zeros((d))\n",
    "ind = np.array(range(0, d, 1))\n",
    "np.random.shuffle(ind)\n",
    "print(f'Shuffled ind: \\n{ind}\\n')\n",
    "# ind = np.array([])\n",
    "x = np.zeros((d, d))\n",
    "y = np.ones((d))\n",
    "# y = np.array([1, -1, -1, -1, 1])\n",
    "for i in ind:\n",
    "    x[i, i] = np.cos(np.pi * (i + 1))\n",
    "print(f' x: \\n{x}\\n')\n",
    "x\n",
    "print(f' y: \\n{y}\\n')\n",
    "\n",
    "# loop_ind = np.array([0, 1])\n",
    "\n",
    "cls = np.empty((d))\n",
    "\n",
    "for i in ind:\n",
    "    cls[i] = y[i] * np.dot(theta, x[i])\n",
    "print(f'Classifer values: \\n{cls}\\n')\n",
    "\n",
    "it = 0\n",
    "mistakes = 0\n",
    "sep_pln = np.array([np.zeros(d)]) \n",
    "print(sep_pln)\n",
    "\n",
    "while np.min(cls) <= 0:\n",
    "    print(f'Iteration {it + 1}\\n')\n",
    "    for i in ind: \n",
    "        print(f' (it = {it}) point {i + 1}\\n')\n",
    "        if y[i] * np.dot(theta, x[i]) <= 0:\n",
    "            theta = theta + np.dot(y[i], x[i])\n",
    "            print(f' MISS CLASSIFICATION\\n')\n",
    "            print(f' theta:\\n {theta}\\n')\n",
    "            mistakes = mistakes + 1\n",
    "            sep_pln = np.append(sep_pln, [theta], axis = 0)\n",
    "    for i in ind:\n",
    "        cls[i] = y[i] * np.dot(theta, x[i])\n",
    "    it = it + 1\n",
    "print(f'Total number of mistakes: {mistakes}\\n')\n",
    "print(f'Theta progression: \\n{sep_pln}\\n')\n",
    "print(f'End classifer values: \\n{cls}\\n')\n",
    "                  \n",
    "                  "
   ]
  },
  {
   "cell_type": "code",
   "execution_count": null,
   "id": "334d44ae-15d7-4b10-a367-ae3d4bb60222",
   "metadata": {},
   "outputs": [],
   "source": []
  },
  {
   "cell_type": "code",
   "execution_count": null,
   "id": "876752a2-c54b-43b2-bfc7-6b3eb1d6c722",
   "metadata": {},
   "outputs": [],
   "source": []
  }
 ],
 "metadata": {
  "kernelspec": {
   "display_name": "6.86x",
   "language": "python",
   "name": "6.86x"
  },
  "language_info": {
   "codemirror_mode": {
    "name": "ipython",
    "version": 3
   },
   "file_extension": ".py",
   "mimetype": "text/x-python",
   "name": "python",
   "nbconvert_exporter": "python",
   "pygments_lexer": "ipython3",
   "version": "3.9.7"
  }
 },
 "nbformat": 4,
 "nbformat_minor": 5
}
