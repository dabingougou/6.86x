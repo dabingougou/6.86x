{
 "cells": [
  {
   "cell_type": "markdown",
   "id": "9f5055d1-745b-4be9-ba9f-fd456186536c",
   "metadata": {},
   "source": [
    "## Test code"
   ]
  },
  {
   "cell_type": "markdown",
   "id": "916e484c-b1da-4767-9bf9-421b6a0737f8",
   "metadata": {},
   "source": [
    "- Generating a random vector, int or float"
   ]
  },
  {
   "cell_type": "code",
   "execution_count": 1,
   "id": "ef7c628b-aaa7-4fb5-be60-7fe6118751ed",
   "metadata": {},
   "outputs": [
    {
     "name": "stdout",
     "output_type": "stream",
     "text": [
      "x:\n",
      "[ 5 -5 -2  1 -6  7 -9 -4 -8 -8  6 -3 -3  3 -1 -5  0 -1 -3 -4]\n",
      "\n",
      "y:\n",
      "[1]\n",
      "\n",
      "theta:\n",
      "[0.43493672 0.6639177  0.48177312 0.28522224 0.36162752 0.51920489\n",
      " 0.05229806 0.46987947 0.94591232 0.02851913 0.9725613  0.76711557\n",
      " 0.16845903 0.81235454 0.52549677 0.55363169 0.02562048 0.1831137\n",
      " 0.05251685 0.5220637 ]\n",
      "\n",
      "theta0:[0.17859107]\n",
      "\n"
     ]
    }
   ],
   "source": [
    "import numpy as np\n",
    "s = 20\n",
    "x = np.random.random(s)\n",
    "\n",
    "x = np.random.randint(low = -10, high = 10, size = s)\n",
    "theta = np.random.random(size = s)\n",
    "theta0 = np.random.random(1)\n",
    "\n",
    "y = np.random.choice([-1, 1], size = 1)\n",
    "print(f'x:\\n{x}\\n')\n",
    "print(f'y:\\n{y}\\n')\n",
    "print(f'theta:\\n{theta}\\n')\n",
    "print(f'theta0:{theta0}\\n')"
   ]
  },
  {
   "cell_type": "markdown",
   "id": "1205d9e9-32e9-4f73-8a8b-19cdf3001441",
   "metadata": {},
   "source": [
    "### Hinge loss single"
   ]
  },
  {
   "cell_type": "code",
   "execution_count": 3,
   "id": "99a4315c-8c6f-4880-a579-51e17300d889",
   "metadata": {},
   "outputs": [
    {
     "data": {
      "text/plain": [
       "0"
      ]
     },
     "execution_count": 3,
     "metadata": {},
     "output_type": "execute_result"
    }
   ],
   "source": [
    "def hinge_loss(feature, label, theta, theta0):\n",
    "    loss = label * (np.dot(theta, feature) + theta0)\n",
    "    hloss = np.amax([0, loss])\n",
    "    return hloss\n",
    "\n",
    "hinge_loss(x, y, theta, theta0)"
   ]
  },
  {
   "cell_type": "markdown",
   "id": "e366446f-b67c-4c1c-80ee-d13caadab88f",
   "metadata": {},
   "source": [
    "### Hinge loss full"
   ]
  },
  {
   "cell_type": "code",
   "execution_count": 9,
   "id": "15cd83a5-0734-44d2-b171-bc9cfa6cb3d5",
   "metadata": {},
   "outputs": [
    {
     "name": "stdout",
     "output_type": "stream",
     "text": [
      "[[0.01381807 0.66037139 0.40049522]\n",
      " [0.30874883 0.13708417 0.06492871]]\n"
     ]
    }
   ],
   "source": [
    "x = np.random.random((2, 3))\n",
    "print(x)"
   ]
  },
  {
   "cell_type": "code",
   "execution_count": 10,
   "id": "6b7b48e9-36e5-4570-aa79-8581cd1cbff3",
   "metadata": {},
   "outputs": [
    {
     "data": {
      "text/plain": [
       "\u001b[0;31mDocstring:\u001b[0m\n",
       "rand(d0, d1, ..., dn)\n",
       "\n",
       "Random values in a given shape.\n",
       "\n",
       ".. note::\n",
       "    This is a convenience function for users porting code from Matlab,\n",
       "    and wraps `random_sample`. That function takes a\n",
       "    tuple to specify the size of the output, which is consistent with\n",
       "    other NumPy functions like `numpy.zeros` and `numpy.ones`.\n",
       "\n",
       "Create an array of the given shape and populate it with\n",
       "random samples from a uniform distribution\n",
       "over ``[0, 1)``.\n",
       "\n",
       "Parameters\n",
       "----------\n",
       "d0, d1, ..., dn : int, optional\n",
       "    The dimensions of the returned array, must be non-negative.\n",
       "    If no argument is given a single Python float is returned.\n",
       "\n",
       "Returns\n",
       "-------\n",
       "out : ndarray, shape ``(d0, d1, ..., dn)``\n",
       "    Random values.\n",
       "\n",
       "See Also\n",
       "--------\n",
       "random\n",
       "\n",
       "Examples\n",
       "--------\n",
       ">>> np.random.rand(3,2)\n",
       "array([[ 0.14022471,  0.96360618],  #random\n",
       "       [ 0.37601032,  0.25528411],  #random\n",
       "       [ 0.49313049,  0.94909878]]) #random\n",
       "\u001b[0;31mType:\u001b[0m      builtin_function_or_method\n"
      ]
     },
     "metadata": {},
     "output_type": "display_data"
    }
   ],
   "source": []
  },
  {
   "cell_type": "code",
   "execution_count": null,
   "id": "0c399058-026b-4810-a6aa-687eb548e124",
   "metadata": {},
   "outputs": [],
   "source": []
  }
 ],
 "metadata": {
  "kernelspec": {
   "display_name": "6.86x",
   "language": "python",
   "name": "6.86x"
  },
  "language_info": {
   "codemirror_mode": {
    "name": "ipython",
    "version": 3
   },
   "file_extension": ".py",
   "mimetype": "text/x-python",
   "name": "python",
   "nbconvert_exporter": "python",
   "pygments_lexer": "ipython3",
   "version": "3.9.7"
  }
 },
 "nbformat": 4,
 "nbformat_minor": 5
}
