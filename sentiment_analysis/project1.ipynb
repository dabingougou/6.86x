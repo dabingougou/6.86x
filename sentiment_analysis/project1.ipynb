{
 "cells": [
  {
   "cell_type": "markdown",
   "id": "9f5055d1-745b-4be9-ba9f-fd456186536c",
   "metadata": {},
   "source": [
    "## Test code"
   ]
  },
  {
   "cell_type": "markdown",
   "id": "916e484c-b1da-4767-9bf9-421b6a0737f8",
   "metadata": {},
   "source": [
    "- Generating a random vector, int or float"
   ]
  },
  {
   "cell_type": "code",
   "execution_count": 1,
   "id": "ef7c628b-aaa7-4fb5-be60-7fe6118751ed",
   "metadata": {},
   "outputs": [
    {
     "name": "stdout",
     "output_type": "stream",
     "text": [
      "x:\n",
      "[ 5 -5 -2  1 -6  7 -9 -4 -8 -8  6 -3 -3  3 -1 -5  0 -1 -3 -4]\n",
      "\n",
      "y:\n",
      "[1]\n",
      "\n",
      "theta:\n",
      "[0.43493672 0.6639177  0.48177312 0.28522224 0.36162752 0.51920489\n",
      " 0.05229806 0.46987947 0.94591232 0.02851913 0.9725613  0.76711557\n",
      " 0.16845903 0.81235454 0.52549677 0.55363169 0.02562048 0.1831137\n",
      " 0.05251685 0.5220637 ]\n",
      "\n",
      "theta0:[0.17859107]\n",
      "\n"
     ]
    }
   ],
   "source": [
    "import numpy as np\n",
    "s = 20\n",
    "x = np.random.random(s)\n",
    "\n",
    "x = np.random.randint(low = -10, high = 10, size = s)\n",
    "theta = np.random.random(size = s)\n",
    "theta0 = np.random.random(1)\n",
    "\n",
    "y = np.random.choice([-1, 1], size = 1)\n",
    "print(f'x:\\n{x}\\n')\n",
    "print(f'y:\\n{y}\\n')\n",
    "print(f'theta:\\n{theta}\\n')\n",
    "print(f'theta0:{theta0}\\n')"
   ]
  },
  {
   "cell_type": "markdown",
   "id": "1205d9e9-32e9-4f73-8a8b-19cdf3001441",
   "metadata": {},
   "source": [
    "### Hinge loss single"
   ]
  },
  {
   "cell_type": "code",
   "execution_count": 3,
   "id": "99a4315c-8c6f-4880-a579-51e17300d889",
   "metadata": {},
   "outputs": [
    {
     "data": {
      "text/plain": [
       "0"
      ]
     },
     "execution_count": 3,
     "metadata": {},
     "output_type": "execute_result"
    }
   ],
   "source": [
    "def hinge_loss(feature, label, theta, theta0):\n",
    "    loss = label * (np.dot(theta, feature) + theta0)\n",
    "    hloss = np.amax([0, loss])\n",
    "    return hloss\n",
    "\n",
    "hinge_loss(x, y, theta, theta0)"
   ]
  },
  {
   "cell_type": "markdown",
   "id": "e366446f-b67c-4c1c-80ee-d13caadab88f",
   "metadata": {},
   "source": [
    "### Hinge loss full"
   ]
  },
  {
   "cell_type": "code",
   "execution_count": 12,
   "id": "15cd83a5-0734-44d2-b171-bc9cfa6cb3d5",
   "metadata": {},
   "outputs": [
    {
     "ename": "TypeError",
     "evalue": "random() takes at most 1 positional argument (3 given)",
     "output_type": "error",
     "traceback": [
      "\u001b[0;31m---------------------------------------------------------------------------\u001b[0m",
      "\u001b[0;31mTypeError\u001b[0m                                 Traceback (most recent call last)",
      "\u001b[0;32m/var/folders/ff/b28_psw52zj9827hfkrfsvg80000gn/T/ipykernel_86816/1801254836.py\u001b[0m in \u001b[0;36m<module>\u001b[0;34m\u001b[0m\n\u001b[0;32m----> 1\u001b[0;31m \u001b[0mx\u001b[0m \u001b[0;34m=\u001b[0m \u001b[0mnp\u001b[0m\u001b[0;34m.\u001b[0m\u001b[0mrandom\u001b[0m\u001b[0;34m.\u001b[0m\u001b[0mrandom\u001b[0m\u001b[0;34m(\u001b[0m\u001b[0;34m-\u001b[0m\u001b[0;36m5\u001b[0m\u001b[0;34m,\u001b[0m \u001b[0;36m5\u001b[0m\u001b[0;34m,\u001b[0m \u001b[0;34m(\u001b[0m\u001b[0;36m2\u001b[0m\u001b[0;34m,\u001b[0m \u001b[0;36m3\u001b[0m\u001b[0;34m)\u001b[0m\u001b[0;34m)\u001b[0m\u001b[0;34m\u001b[0m\u001b[0;34m\u001b[0m\u001b[0m\n\u001b[0m\u001b[1;32m      2\u001b[0m \u001b[0mprint\u001b[0m\u001b[0;34m(\u001b[0m\u001b[0mx\u001b[0m\u001b[0;34m)\u001b[0m\u001b[0;34m\u001b[0m\u001b[0;34m\u001b[0m\u001b[0m\n",
      "\u001b[0;32mmtrand.pyx\u001b[0m in \u001b[0;36mnumpy.random.mtrand.RandomState.random\u001b[0;34m()\u001b[0m\n",
      "\u001b[0;31mTypeError\u001b[0m: random() takes at most 1 positional argument (3 given)"
     ]
    }
   ],
   "source": [
    "x = np.random.random(-5, 5, (2, 3))\n",
    "print(x)"
   ]
  },
  {
   "cell_type": "code",
   "execution_count": 13,
   "id": "6b7b48e9-36e5-4570-aa79-8581cd1cbff3",
   "metadata": {},
   "outputs": [
    {
     "data": {
      "text/plain": [
       "\u001b[0;31mDocstring:\u001b[0m\n",
       "random(size=None)\n",
       "\n",
       "Return random floats in the half-open interval [0.0, 1.0). Alias for\n",
       "`random_sample` to ease forward-porting to the new random API.\n",
       "\u001b[0;31mType:\u001b[0m      builtin_function_or_method\n"
      ]
     },
     "metadata": {},
     "output_type": "display_data"
    }
   ],
   "source": [
    "np.random.random?"
   ]
  },
  {
   "cell_type": "code",
   "execution_count": null,
   "id": "0c399058-026b-4810-a6aa-687eb548e124",
   "metadata": {},
   "outputs": [],
   "source": []
  }
 ],
 "metadata": {
  "kernelspec": {
   "display_name": "6.86x",
   "language": "python",
   "name": "6.86x"
  },
  "language_info": {
   "codemirror_mode": {
    "name": "ipython",
    "version": 3
   },
   "file_extension": ".py",
   "mimetype": "text/x-python",
   "name": "python",
   "nbconvert_exporter": "python",
   "pygments_lexer": "ipython3",
   "version": "3.9.7"
  }
 },
 "nbformat": 4,
 "nbformat_minor": 5
}
